{
 "cells": [
  {
   "cell_type": "markdown",
   "metadata": {},
   "source": [
    "# Querying Agents"
   ]
  },
  {
   "cell_type": "markdown",
   "metadata": {},
   "source": [
    "**Options**\n",
    "\n",
    "- AutoGen\n",
    "- LangChain\n",
    "\n",
    "**AutoGen**\n",
    "- Uses GPT models.\n",
    "- Is well integrated and works really well at most tasks.\n",
    "- Is more centered around solving the given task.\n",
    "- GPT-4 can search online and run code, GPT-3.5-turbo can't search online.\n",
    "\n",
    "**LangChain**\n",
    "- Allows for many LLM models.\n",
    "- Has a lot of optionality and customizability, but only performs well at certain tasks.\n",
    "- Is more centered around solving the given task, using the provided tools.\n",
    "- Can search online using GPT-3.5-turbo and run code."
   ]
  },
  {
   "cell_type": "markdown",
   "metadata": {},
   "source": [
    "## Imports"
   ]
  },
  {
   "cell_type": "code",
   "execution_count": 10,
   "metadata": {},
   "outputs": [],
   "source": [
    "# General\n",
    "import os\n",
    "from dotenv import load_dotenv\n",
    "\n",
    "# Get API keys from .env file\n",
    "load_dotenv()\n",
    "\n",
    "\n",
    "# AutoGen\n",
    "import autogen\n",
    "\n",
    "# LangChain\n",
    "from langchain.agents.agent_toolkits import create_python_agent\n",
    "from langchain.agents import load_tools, initialize_agent\n",
    "from langchain.agents import AgentType\n",
    "from langchain.tools.python.tool import PythonREPLTool\n",
    "from langchain.python import PythonREPL\n",
    "from langchain.chat_models import ChatOpenAI\n",
    "from langchain.agents import tool\n",
    "from datetime import date"
   ]
  },
  {
   "cell_type": "markdown",
   "metadata": {},
   "source": [
    "## AutoGen"
   ]
  },
  {
   "cell_type": "markdown",
   "metadata": {},
   "source": [
    "### Define helper methods"
   ]
  },
  {
   "cell_type": "code",
   "execution_count": 11,
   "metadata": {},
   "outputs": [],
   "source": [
    "# Define openai configurations\n",
    "openai_config_list = [\n",
    "    {\n",
    "        # 'model': 'gpt-3.5-turbo',                 # $0.03 for running the first request below (can't get live data, used placeholder data)\n",
    "        'model': 'gpt-4',                           # $0.33 for running the two requests below\n",
    "        'api_key': os.environ['OPENAI_API_KEY'],\n",
    "    }\n",
    "]"
   ]
  },
  {
   "cell_type": "markdown",
   "metadata": {},
   "source": [
    "### Define the Agent"
   ]
  },
  {
   "cell_type": "code",
   "execution_count": 12,
   "metadata": {},
   "outputs": [],
   "source": [
    "# Create AssistantAgent named \"assistant\"\n",
    "assistant = autogen.AssistantAgent(\n",
    "    name=\"assistant\",\n",
    "    llm_config={\n",
    "        \"seed\": 42,                             # Seed for caching/reproducibility\n",
    "        \"config_list\": openai_config_list,             # OpenAI API configurations\n",
    "        \"temperature\": 0,                       # Randomness, 0 means no randomness\n",
    "    }                                           # Config for autogen's enhanced inference API\n",
    ")\n",
    "\n",
    "# Create UserProxyAgent named \"user_proxy\"\n",
    "user_proxy = autogen.UserProxyAgent(\n",
    "    name=\"user_proxy\",\n",
    "    human_input_mode=\"NEVER\",                   # NEVER, ALWAYS, or TERMINATE (Recommendation; 1 question: NEVER, multiple followup questions: TERMINATE)\n",
    "    max_consecutive_auto_reply=10,              # Max number of auto replies\n",
    "    is_termination_msg=lambda x: x.get(\"content\", \"\").rstrip().endswith(\"TERMINATE\"),   # Termination condition\n",
    "    code_execution_config={\n",
    "        \"work_dir\": \"coding\",                   # Working directory for code execution (where generated files are stored)\n",
    "        \"use_docker\": False,                    # Set to True or image name like \"python:3\" to use docker\n",
    "    }\n",
    ")"
   ]
  },
  {
   "cell_type": "markdown",
   "metadata": {},
   "source": [
    "### Test the Agent"
   ]
  },
  {
   "cell_type": "markdown",
   "metadata": {},
   "source": [
    "#### Sum all numbers in a range"
   ]
  },
  {
   "cell_type": "code",
   "execution_count": 4,
   "metadata": {},
   "outputs": [
    {
     "name": "stdout",
     "output_type": "stream",
     "text": [
      "\u001b[33muser_proxy\u001b[0m (to assistant):\n",
      "\n",
      "Sum all the numbers from 0 to 10.\n",
      "\n",
      "--------------------------------------------------------------------------------\n",
      "\u001b[33massistant\u001b[0m (to user_proxy):\n",
      "\n",
      "You can use Python's built-in function `sum()` to sum all the numbers from 0 to 10. Here is the Python code to do that:\n",
      "\n",
      "```python\n",
      "print(sum(range(11)))\n",
      "```\n",
      "\n",
      "This code uses the `range()` function to generate a sequence of numbers from 0 to 10, and then sums them up. The `print()` function is used to output the result.\n",
      "\n",
      "--------------------------------------------------------------------------------\n",
      "\u001b[31m\n",
      ">>>>>>>> EXECUTING CODE BLOCK 0 (inferred language is python)...\u001b[0m\n"
     ]
    },
    {
     "name": "stderr",
     "output_type": "stream",
     "text": [
      "SIGALRM is not supported on Windows. No timeout will be enforced.\n"
     ]
    },
    {
     "name": "stdout",
     "output_type": "stream",
     "text": [
      "\u001b[33muser_proxy\u001b[0m (to assistant):\n",
      "\n",
      "exitcode: 0 (execution succeeded)\n",
      "Code output: \n",
      "55\n",
      "\n",
      "\n",
      "--------------------------------------------------------------------------------\n",
      "\u001b[33massistant\u001b[0m (to user_proxy):\n",
      "\n",
      "Great! The code has successfully summed all the numbers from 0 to 10 and the result is 55. This is the correct answer because the sum of the first n natural numbers is given by the formula n*(n+1)/2. In this case, n is 10, so the sum is 10*(10+1)/2 = 55.\n",
      "\n",
      "TERMINATE\n",
      "\n",
      "--------------------------------------------------------------------------------\n"
     ]
    }
   ],
   "source": [
    "# Assistant receives message from user_proxy\n",
    "user_proxy.initiate_chat(\n",
    "    assistant,\n",
    "    message=\"\"\"Sum all the numbers from 0 to 10.\"\"\",\n",
    ")"
   ]
  },
  {
   "cell_type": "markdown",
   "metadata": {},
   "source": [
    "#### Sort array in descending order"
   ]
  },
  {
   "cell_type": "code",
   "execution_count": null,
   "metadata": {},
   "outputs": [],
   "source": [
    "# Assistant receives message from user_proxy\n",
    "user_proxy.initiate_chat(\n",
    "    assistant,\n",
    "    message=\"\"\"Sort the array [1, 3, 2, 4, 5, 7] in descending order.\"\"\",\n",
    ")"
   ]
  },
  {
   "cell_type": "markdown",
   "metadata": {},
   "source": [
    "#### Describe Djikstra's algorithm"
   ]
  },
  {
   "cell_type": "code",
   "execution_count": null,
   "metadata": {},
   "outputs": [],
   "source": [
    "# Assistant receives message from user_proxy\n",
    "user_proxy.initiate_chat(\n",
    "    assistant,\n",
    "    message=\"\"\"Describe Djikstra's algorithm using at most 200 words.\"\"\",\n",
    ")"
   ]
  },
  {
   "cell_type": "markdown",
   "metadata": {},
   "source": [
    "#### Stock price comparison"
   ]
  },
  {
   "cell_type": "code",
   "execution_count": 13,
   "metadata": {},
   "outputs": [
    {
     "name": "stdout",
     "output_type": "stream",
     "text": [
      "\u001b[33muser_proxy\u001b[0m (to assistant):\n",
      "\n",
      "What date is today? Compare the year-to-date gain for META and TESLA.\n",
      "\n",
      "--------------------------------------------------------------------------------\n",
      "\u001b[33massistant\u001b[0m (to user_proxy):\n",
      "\n",
      "First, let's get the current date. We can do this using Python's built-in datetime module.\n",
      "\n",
      "```python\n",
      "# python code\n",
      "import datetime\n",
      "\n",
      "print(datetime.date.today())\n",
      "```\n",
      "\n",
      "Next, we need to get the year-to-date (YTD) gain for META (Facebook) and TESLA. We can use the yfinance library in Python to get this information. If you don't have the yfinance library installed, you can install it using pip:\n",
      "\n",
      "```sh\n",
      "# shell script\n",
      "pip install yfinance\n",
      "```\n",
      "\n",
      "After installing yfinance, we can use the following Python code to get the YTD gain for META and TESLA:\n",
      "\n",
      "```python\n",
      "# python code\n",
      "import yfinance as yf\n",
      "\n",
      "# Get data for the start of the year to today\n",
      "start_date = datetime.date(datetime.date.today().year, 1, 1)\n",
      "end_date = datetime.date.today()\n",
      "\n",
      "# Get data for META and TESLA\n",
      "meta_data = yf.download('META', start=start_date, end=end_date)\n",
      "tesla_data = yf.download('TSLA', start=start_date, end=end_date)\n",
      "\n",
      "# Calculate the YTD gain for META and TESLA\n",
      "meta_ytd_gain = (meta_data['Close'][-1] - meta_data['Close'][0]) / meta_data['Close'][0]\n",
      "tesla_ytd_gain = (tesla_data['Close'][-1] - tesla_data['Close'][0]) / tesla_data['Close'][0]\n",
      "\n",
      "print(f'META YTD gain: {meta_ytd_gain * 100}%')\n",
      "print(f'TESLA YTD gain: {tesla_ytd_gain * 100}%')\n",
      "```\n",
      "\n",
      "This code first gets the stock data for META and TESLA from the start of the year to today. It then calculates the YTD gain by subtracting the closing price at the start of the year from the closing price today, and dividing by the closing price at the start of the year. The result is multiplied by 100 to get a percentage.\n",
      "\n",
      "--------------------------------------------------------------------------------\n",
      "\u001b[31m\n",
      ">>>>>>>> EXECUTING CODE BLOCK 0 (inferred language is python)...\u001b[0m\n"
     ]
    },
    {
     "name": "stderr",
     "output_type": "stream",
     "text": [
      "SIGALRM is not supported on Windows. No timeout will be enforced.\n"
     ]
    },
    {
     "name": "stdout",
     "output_type": "stream",
     "text": [
      "\u001b[31m\n",
      ">>>>>>>> EXECUTING CODE BLOCK 1 (inferred language is sh)...\u001b[0m\n"
     ]
    },
    {
     "name": "stderr",
     "output_type": "stream",
     "text": [
      "SIGALRM is not supported on Windows. No timeout will be enforced.\n"
     ]
    },
    {
     "name": "stdout",
     "output_type": "stream",
     "text": [
      "\u001b[31m\n",
      ">>>>>>>> EXECUTING CODE BLOCK 2 (inferred language is python)...\u001b[0m\n"
     ]
    },
    {
     "name": "stderr",
     "output_type": "stream",
     "text": [
      "SIGALRM is not supported on Windows. No timeout will be enforced.\n"
     ]
    },
    {
     "name": "stdout",
     "output_type": "stream",
     "text": [
      "\u001b[33muser_proxy\u001b[0m (to assistant):\n",
      "\n",
      "exitcode: 1 (execution failed)\n",
      "Code output: \n",
      "2023-10-11\n",
      "\n",
      "Requirement already satisfied: yfinance in c:\\users\\henri\\anaconda3\\envs\\agentchat310\\lib\\site-packages (0.2.31)\n",
      "Requirement already satisfied: pytz>=2022.5 in c:\\users\\henri\\anaconda3\\envs\\agentchat310\\lib\\site-packages (from yfinance) (2023.3.post1)\n",
      "Requirement already satisfied: peewee>=3.16.2 in c:\\users\\henri\\anaconda3\\envs\\agentchat310\\lib\\site-packages (from yfinance) (3.16.3)\n",
      "Requirement already satisfied: numpy>=1.16.5 in c:\\users\\henri\\anaconda3\\envs\\agentchat310\\lib\\site-packages (from yfinance) (1.26.0)\n",
      "Requirement already satisfied: html5lib>=1.1 in c:\\users\\henri\\anaconda3\\envs\\agentchat310\\lib\\site-packages (from yfinance) (1.1)\n",
      "Requirement already satisfied: appdirs>=1.4.4 in c:\\users\\henri\\anaconda3\\envs\\agentchat310\\lib\\site-packages (from yfinance) (1.4.4)\n",
      "Requirement already satisfied: pandas>=1.3.0 in c:\\users\\henri\\anaconda3\\envs\\agentchat310\\lib\\site-packages (from yfinance) (2.1.1)\n",
      "Requirement already satisfied: requests>=2.31 in c:\\users\\henri\\anaconda3\\envs\\agentchat310\\lib\\site-packages (from yfinance) (2.31.0)\n",
      "Requirement already satisfied: multitasking>=0.0.7 in c:\\users\\henri\\anaconda3\\envs\\agentchat310\\lib\\site-packages (from yfinance) (0.0.11)\n",
      "Requirement already satisfied: lxml>=4.9.1 in c:\\users\\henri\\anaconda3\\envs\\agentchat310\\lib\\site-packages (from yfinance) (4.9.3)\n",
      "Requirement already satisfied: beautifulsoup4>=4.11.1 in c:\\users\\henri\\appdata\\roaming\\python\\python310\\site-packages (from yfinance) (4.11.1)\n",
      "Requirement already satisfied: frozendict>=2.3.4 in c:\\users\\henri\\anaconda3\\envs\\agentchat310\\lib\\site-packages (from yfinance) (2.3.8)\n",
      "Requirement already satisfied: soupsieve>1.2 in c:\\users\\henri\\appdata\\roaming\\python\\python310\\site-packages (from beautifulsoup4>=4.11.1->yfinance) (2.3.2.post1)\n",
      "Requirement already satisfied: six>=1.9 in c:\\users\\henri\\anaconda3\\envs\\agentchat310\\lib\\site-packages (from html5lib>=1.1->yfinance) (1.16.0)\n",
      "Requirement already satisfied: webencodings in c:\\users\\henri\\anaconda3\\envs\\agentchat310\\lib\\site-packages (from html5lib>=1.1->yfinance) (0.5.1)\n",
      "Requirement already satisfied: tzdata>=2022.1 in c:\\users\\henri\\anaconda3\\envs\\agentchat310\\lib\\site-packages (from pandas>=1.3.0->yfinance) (2023.3)\n",
      "Requirement already satisfied: python-dateutil>=2.8.2 in c:\\users\\henri\\anaconda3\\envs\\agentchat310\\lib\\site-packages (from pandas>=1.3.0->yfinance) (2.8.2)\n",
      "Requirement already satisfied: certifi>=2017.4.17 in c:\\users\\henri\\anaconda3\\envs\\agentchat310\\lib\\site-packages (from requests>=2.31->yfinance) (2023.7.22)\n",
      "Requirement already satisfied: idna<4,>=2.5 in c:\\users\\henri\\anaconda3\\envs\\agentchat310\\lib\\site-packages (from requests>=2.31->yfinance) (3.4)\n",
      "Requirement already satisfied: urllib3<3,>=1.21.1 in c:\\users\\henri\\anaconda3\\envs\\agentchat310\\lib\\site-packages (from requests>=2.31->yfinance) (2.0.6)\n",
      "Requirement already satisfied: charset-normalizer<4,>=2 in c:\\users\\henri\\anaconda3\\envs\\agentchat310\\lib\\site-packages (from requests>=2.31->yfinance) (3.3.0)\n",
      "\n",
      "Traceback (most recent call last):\n",
      "  File \"\", line 5, in <module>\n",
      "    start_date = datetime.date(datetime.date.today().year, 1, 1)\n",
      "NameError: name 'datetime' is not defined\n",
      "\n",
      "\n",
      "--------------------------------------------------------------------------------\n",
      "\u001b[33massistant\u001b[0m (to user_proxy):\n",
      "\n",
      "I apologize for the confusion. The error occurred because the datetime module was not imported in the second Python code block. Here is the corrected code:\n",
      "\n",
      "```python\n",
      "# python code\n",
      "import datetime\n",
      "import yfinance as yf\n",
      "\n",
      "# Get data for the start of the year to today\n",
      "start_date = datetime.date(datetime.date.today().year, 1, 1)\n",
      "end_date = datetime.date.today()\n",
      "\n",
      "# Get data for META and TESLA\n",
      "meta_data = yf.download('META', start=start_date, end=end_date)\n",
      "tesla_data = yf.download('TSLA', start=start_date, end=end_date)\n",
      "\n",
      "# Calculate the YTD gain for META and TESLA\n",
      "meta_ytd_gain = (meta_data['Close'][-1] - meta_data['Close'][0]) / meta_data['Close'][0]\n",
      "tesla_ytd_gain = (tesla_data['Close'][-1] - tesla_data['Close'][0]) / tesla_data['Close'][0]\n",
      "\n",
      "print(f'META YTD gain: {meta_ytd_gain * 100}%')\n",
      "print(f'TESLA YTD gain: {tesla_ytd_gain * 100}%')\n",
      "```\n",
      "\n",
      "This code will print the YTD gain for META and TESLA as a percentage.\n",
      "\n",
      "--------------------------------------------------------------------------------\n",
      "\u001b[31m\n",
      ">>>>>>>> EXECUTING CODE BLOCK 0 (inferred language is python)...\u001b[0m\n"
     ]
    },
    {
     "name": "stderr",
     "output_type": "stream",
     "text": [
      "SIGALRM is not supported on Windows. No timeout will be enforced.\n"
     ]
    },
    {
     "name": "stdout",
     "output_type": "stream",
     "text": [
      "\u001b[33muser_proxy\u001b[0m (to assistant):\n",
      "\n",
      "exitcode: 0 (execution succeeded)\n",
      "Code output: \n",
      "\n",
      "[*********************100%%**********************]  1 of 1 completed\n",
      "\n",
      "[*********************100%%**********************]  1 of 1 completed\n",
      "META YTD gain: 158.00865949138225%\n",
      "TESLA YTD gain: 143.86678893459703%\n",
      "\n",
      "\n",
      "--------------------------------------------------------------------------------\n",
      "\u001b[33massistant\u001b[0m (to user_proxy):\n",
      "\n",
      "Great! The code executed successfully. \n",
      "\n",
      "As of today (October 11, 2023), the year-to-date (YTD) gain for META (Facebook) is approximately 158.01%, and the YTD gain for TESLA is approximately 143.87%.\n",
      "\n",
      "Please note that these values are based on the closing prices of the stocks and can vary slightly depending on the exact time of day and market conditions.\n",
      "\n",
      "TERMINATE\n",
      "\n",
      "--------------------------------------------------------------------------------\n"
     ]
    }
   ],
   "source": [
    "# Assistant receives message from user_proxy\n",
    "user_proxy.initiate_chat(\n",
    "    assistant,\n",
    "    message=\"\"\"What date is today? Compare the year-to-date gain for META and TESLA.\"\"\",\n",
    ")"
   ]
  },
  {
   "cell_type": "markdown",
   "metadata": {},
   "source": [
    "Followup question:"
   ]
  },
  {
   "cell_type": "code",
   "execution_count": 14,
   "metadata": {},
   "outputs": [
    {
     "name": "stdout",
     "output_type": "stream",
     "text": [
      "\u001b[33muser_proxy\u001b[0m (to assistant):\n",
      "\n",
      "Plot a chart of their stock price change YTD and save to stock_price_helene_marie.png.\n",
      "\n",
      "--------------------------------------------------------------------------------\n",
      "\u001b[33massistant\u001b[0m (to user_proxy):\n",
      "\n",
      "Sure, we can use the matplotlib library in Python to plot the stock price changes for META and TESLA. If you don't have the matplotlib library installed, you can install it using pip:\n",
      "\n",
      "```sh\n",
      "# shell script\n",
      "pip install matplotlib\n",
      "```\n",
      "\n",
      "After installing matplotlib, we can use the following Python code to plot the stock price changes and save the plot to a file:\n",
      "\n",
      "```python\n",
      "# python code\n",
      "import matplotlib.pyplot as plt\n",
      "\n",
      "# Plot the closing prices of META and TESLA\n",
      "plt.figure(figsize=(14, 7))\n",
      "plt.plot(meta_data['Close'], label='META')\n",
      "plt.plot(tesla_data['Close'], label='TESLA')\n",
      "\n",
      "# Add labels and title\n",
      "plt.xlabel('Date')\n",
      "plt.ylabel('Closing Price')\n",
      "plt.title('META vs TESLA YTD Closing Price')\n",
      "plt.legend()\n",
      "\n",
      "# Save the plot to a file\n",
      "plt.savefig('stock_price_helene_marie.png')\n",
      "```\n",
      "\n",
      "This code will create a line plot of the closing prices of META and TESLA from the start of the year to today. The plot is then saved to a file named 'stock_price_helene_marie.png'.\n",
      "\n",
      "--------------------------------------------------------------------------------\n",
      "\u001b[31m\n",
      ">>>>>>>> EXECUTING CODE BLOCK 0 (inferred language is sh)...\u001b[0m\n"
     ]
    },
    {
     "name": "stderr",
     "output_type": "stream",
     "text": [
      "SIGALRM is not supported on Windows. No timeout will be enforced.\n"
     ]
    },
    {
     "name": "stdout",
     "output_type": "stream",
     "text": [
      "\u001b[31m\n",
      ">>>>>>>> EXECUTING CODE BLOCK 1 (inferred language is python)...\u001b[0m\n"
     ]
    },
    {
     "name": "stderr",
     "output_type": "stream",
     "text": [
      "SIGALRM is not supported on Windows. No timeout will be enforced.\n"
     ]
    },
    {
     "name": "stdout",
     "output_type": "stream",
     "text": [
      "\u001b[33muser_proxy\u001b[0m (to assistant):\n",
      "\n",
      "exitcode: 1 (execution failed)\n",
      "Code output: \n",
      "Requirement already satisfied: matplotlib in c:\\users\\henri\\anaconda3\\envs\\agentchat310\\lib\\site-packages (3.8.0)\n",
      "Requirement already satisfied: kiwisolver>=1.0.1 in c:\\users\\henri\\anaconda3\\envs\\agentchat310\\lib\\site-packages (from matplotlib) (1.4.5)\n",
      "Requirement already satisfied: packaging>=20.0 in c:\\users\\henri\\anaconda3\\envs\\agentchat310\\lib\\site-packages (from matplotlib) (23.2)\n",
      "Requirement already satisfied: fonttools>=4.22.0 in c:\\users\\henri\\anaconda3\\envs\\agentchat310\\lib\\site-packages (from matplotlib) (4.43.1)\n",
      "Requirement already satisfied: numpy<2,>=1.21 in c:\\users\\henri\\anaconda3\\envs\\agentchat310\\lib\\site-packages (from matplotlib) (1.26.0)\n",
      "Requirement already satisfied: python-dateutil>=2.7 in c:\\users\\henri\\anaconda3\\envs\\agentchat310\\lib\\site-packages (from matplotlib) (2.8.2)\n",
      "Requirement already satisfied: pyparsing>=2.3.1 in c:\\users\\henri\\anaconda3\\envs\\agentchat310\\lib\\site-packages (from matplotlib) (3.1.1)\n",
      "Requirement already satisfied: pillow>=6.2.0 in c:\\users\\henri\\anaconda3\\envs\\agentchat310\\lib\\site-packages (from matplotlib) (10.0.1)\n",
      "Requirement already satisfied: contourpy>=1.0.1 in c:\\users\\henri\\anaconda3\\envs\\agentchat310\\lib\\site-packages (from matplotlib) (1.1.1)\n",
      "Requirement already satisfied: cycler>=0.10 in c:\\users\\henri\\anaconda3\\envs\\agentchat310\\lib\\site-packages (from matplotlib) (0.12.1)\n",
      "Requirement already satisfied: six>=1.5 in c:\\users\\henri\\anaconda3\\envs\\agentchat310\\lib\\site-packages (from python-dateutil>=2.7->matplotlib) (1.16.0)\n",
      "\n",
      "Traceback (most recent call last):\n",
      "  File \"\", line 6, in <module>\n",
      "    plt.plot(meta_data['Close'], label='META')\n",
      "NameError: name 'meta_data' is not defined\n",
      "\n",
      "\n",
      "--------------------------------------------------------------------------------\n",
      "\u001b[33massistant\u001b[0m (to user_proxy):\n",
      "\n",
      "I apologize for the confusion. The error occurred because the meta_data and tesla_data variables were not defined in this Python code block. Here is the corrected code:\n",
      "\n",
      "```python\n",
      "# python code\n",
      "import datetime\n",
      "import yfinance as yf\n",
      "import matplotlib.pyplot as plt\n",
      "\n",
      "# Get data for the start of the year to today\n",
      "start_date = datetime.date(datetime.date.today().year, 1, 1)\n",
      "end_date = datetime.date.today()\n",
      "\n",
      "# Get data for META and TESLA\n",
      "meta_data = yf.download('META', start=start_date, end=end_date)\n",
      "tesla_data = yf.download('TSLA', start=start_date, end=end_date)\n",
      "\n",
      "# Plot the closing prices of META and TESLA\n",
      "plt.figure(figsize=(14, 7))\n",
      "plt.plot(meta_data['Close'], label='META')\n",
      "plt.plot(tesla_data['Close'], label='TESLA')\n",
      "\n",
      "# Add labels and title\n",
      "plt.xlabel('Date')\n",
      "plt.ylabel('Closing Price')\n",
      "plt.title('META vs TESLA YTD Closing Price')\n",
      "plt.legend()\n",
      "\n",
      "# Save the plot to a file\n",
      "plt.savefig('stock_price_helene_marie.png')\n",
      "```\n",
      "\n",
      "This code will create a line plot of the closing prices of META and TESLA from the start of the year to today. The plot is then saved to a file named 'stock_price_helene_marie.png'.\n",
      "\n",
      "--------------------------------------------------------------------------------\n",
      "\u001b[31m\n",
      ">>>>>>>> EXECUTING CODE BLOCK 0 (inferred language is python)...\u001b[0m\n"
     ]
    },
    {
     "name": "stderr",
     "output_type": "stream",
     "text": [
      "SIGALRM is not supported on Windows. No timeout will be enforced.\n"
     ]
    },
    {
     "name": "stdout",
     "output_type": "stream",
     "text": [
      "\u001b[33muser_proxy\u001b[0m (to assistant):\n",
      "\n",
      "exitcode: 0 (execution succeeded)\n",
      "Code output: \n",
      "\n",
      "[*********************100%%**********************]  1 of 1 completed\n",
      "\n",
      "[*********************100%%**********************]  1 of 1 completed\n",
      "\n",
      "\n",
      "--------------------------------------------------------------------------------\n",
      "\u001b[33massistant\u001b[0m (to user_proxy):\n",
      "\n",
      "Great! The code executed successfully. \n",
      "\n",
      "The line plot of the closing prices of META and TESLA from the start of the year to today has been saved to a file named 'stock_price_helene_marie.png'. You can find this file in the same directory where you ran the script.\n",
      "\n",
      "Please note that the plot is based on the closing prices of the stocks and can vary slightly depending on the exact time of day and market conditions.\n",
      "\n",
      "TERMINATE\n",
      "\n",
      "--------------------------------------------------------------------------------\n"
     ]
    }
   ],
   "source": [
    "user_proxy.send(\n",
    "    recipient=assistant,\n",
    "    message=\"\"\"Plot a chart of their stock price change YTD and save to stock_price_helene_marie.png.\"\"\",\n",
    ")"
   ]
  },
  {
   "cell_type": "markdown",
   "metadata": {},
   "source": [
    "## LangChain"
   ]
  },
  {
   "cell_type": "markdown",
   "metadata": {},
   "source": [
    "### Define helper methods"
   ]
  },
  {
   "cell_type": "code",
   "execution_count": null,
   "metadata": {},
   "outputs": [],
   "source": [
    "# Get the model\n",
    "llm_model = \"gpt-3.5-turbo\"\n",
    "llm = ChatOpenAI(temperature=0, model=llm_model)\n",
    "\n",
    "# Create a custom tool\n",
    "@tool\n",
    "def time(text: str) -> str:\n",
    "    \"\"\"Returns todays date, use this for any \\\n",
    "    questions related to knowing todays date. \\\n",
    "    The input should always be an empty string, \\\n",
    "    and this function will always return todays \\\n",
    "    date - any date mathmatics should occur \\\n",
    "    outside this function.\"\"\"\n",
    "    return str(date.today())\n",
    "\n",
    "# Give the model access to llm-math and wikipedia\n",
    "tools = load_tools([\"llm-math\",\"wikipedia\"], llm=llm)\n",
    "\n",
    "# Give the model access to the custom tool\n",
    "tools = tools + [time]"
   ]
  },
  {
   "cell_type": "markdown",
   "metadata": {},
   "source": [
    "### Define the Agent"
   ]
  },
  {
   "cell_type": "code",
   "execution_count": null,
   "metadata": {},
   "outputs": [],
   "source": [
    "# Create an agent with access to llm_math, wikipedia and a custom tool\n",
    "agent= initialize_agent(\n",
    "    tools, \n",
    "    llm, \n",
    "    agent=AgentType.CHAT_ZERO_SHOT_REACT_DESCRIPTION,\n",
    "    handle_parsing_errors=True,\n",
    "    verbose = True)\n",
    "\n",
    "# Create a Python agent\n",
    "python_agent = create_python_agent(\n",
    "    llm,\n",
    "    tool=PythonREPLTool(),\n",
    "    handle_parsing_errors=True,\n",
    "    verbose=True\n",
    ")"
   ]
  },
  {
   "cell_type": "markdown",
   "metadata": {},
   "source": [
    "### Test the Agent"
   ]
  },
  {
   "cell_type": "markdown",
   "metadata": {},
   "source": [
    "#### Sum all numbers in a range"
   ]
  },
  {
   "cell_type": "code",
   "execution_count": null,
   "metadata": {},
   "outputs": [],
   "source": [
    "# agent(\"\"\"Sum all the numbers from 0 to 10.\"\"\")                  # GPT-3.5-turbo: Wrong answer + Confused by output format, endless loop\n",
    "python_agent(\"\"\"Sum all the numbers from 0 to 10.\"\"\")           # GPT-3.5-turbo: Correct answer + Very fast"
   ]
  },
  {
   "cell_type": "markdown",
   "metadata": {},
   "source": [
    "#### Sort array in descending order"
   ]
  },
  {
   "cell_type": "code",
   "execution_count": null,
   "metadata": {},
   "outputs": [],
   "source": [
    "# agent(\"\"\"Sort the array [1, 3, 2, 4, 5, 7] in descending order.\"\"\")             # GPT-3.5-turbo: Unable to complete the request (Correct answer) + Confused by output format, endless loop\n",
    "python_agent(\"\"\"Sort the array [1, 3, 2, 4, 5, 7] in descending order.\"\"\")      # GPT-3.5-turbo: Correct answer + Pretty fast"
   ]
  },
  {
   "cell_type": "markdown",
   "metadata": {},
   "source": [
    "#### Describe Djikstra's algorithm"
   ]
  },
  {
   "cell_type": "code",
   "execution_count": null,
   "metadata": {},
   "outputs": [],
   "source": [
    "agent(\"\"\"Describe Djikstra's algorithm using at most 200 words.\"\"\")             # GPT-3.5-turbo: Unable to complete the request + Confused by output format, endless loop\n",
    "# python_agent(\"\"\"Describe Djikstra's algorithm using at most 200 words.\"\"\")      # GPT-3.5-turbo: Unable to complete the request + Confused by output format, crashes"
   ]
  },
  {
   "cell_type": "markdown",
   "metadata": {},
   "source": [
    "#### Stock price comparison"
   ]
  },
  {
   "cell_type": "code",
   "execution_count": null,
   "metadata": {},
   "outputs": [],
   "source": [
    "# agent(\"\"\"What date is today? Compare the year-to-date gain for META and TESLA.\"\"\")          # GPT-3.5-turbo: Unable to complete the request + Uses Wikipedia to look for stock prices (other than that, correct approach)\n",
    "python_agent(\"\"\"What date is today? Compare the year-to-date gain for META and TESLA.\"\"\")   # GPT-3.5-turbo: Unable to complete the request + Can't import `datetime`, endless loop"
   ]
  },
  {
   "cell_type": "markdown",
   "metadata": {},
   "source": [
    "Followup question (must be provided in initial question):"
   ]
  },
  {
   "cell_type": "code",
   "execution_count": null,
   "metadata": {},
   "outputs": [],
   "source": [
    "# agent(\"\"\"What date is today? Compare the year-to-date gain for META and TESLA. \n",
    "#       Plot a chart of their stock price change YTD and save to stock_price_ytd.png.\"\"\")          # GPT-3.5-turbo: Unable to complete the request + Uses Wikipedia to look for stock prices (other than that, correct approach)\n",
    "\n",
    "python_agent(\"\"\"What date is today? Compare the year-to-date gain for META and TESLA. \n",
    "             Plot a chart of their stock price change YTD and save to stock_price_ytd.png.\"\"\")   # GPT-3.5-turbo: Unable to complete the request + Makes correct imports, but doesn't look for stock prices\n",
    "                                                                                                 # GPT-3.5-turbo: Correct answer + Pretty fast (With handle_parse_errors=True)"
   ]
  }
 ],
 "metadata": {
  "kernelspec": {
   "display_name": "agentchat",
   "language": "python",
   "name": "python3"
  },
  "language_info": {
   "codemirror_mode": {
    "name": "ipython",
    "version": 3
   },
   "file_extension": ".py",
   "mimetype": "text/x-python",
   "name": "python",
   "nbconvert_exporter": "python",
   "pygments_lexer": "ipython3",
   "version": "3.10.13"
  },
  "orig_nbformat": 4
 },
 "nbformat": 4,
 "nbformat_minor": 2
}
